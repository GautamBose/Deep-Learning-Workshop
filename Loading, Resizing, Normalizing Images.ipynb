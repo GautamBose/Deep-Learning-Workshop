{
 "cells": [
  {
   "cell_type": "code",
   "execution_count": 1,
   "metadata": {
    "collapsed": true
   },
   "outputs": [],
   "source": [
    "import tensorflow"
   ]
  },
  {
   "cell_type": "code",
   "execution_count": 2,
   "metadata": {
    "collapsed": false
   },
   "outputs": [],
   "source": [
    "import libs"
   ]
  },
  {
   "cell_type": "code",
   "execution_count": 12,
   "metadata": {
    "collapsed": false
   },
   "outputs": [],
   "source": [
    "import os\n",
    "import matplotlib.pyplot as plt\n",
    "%matplotlib inline\n",
    "\n",
    "import numpy as np\n",
    "from scipy.misc import imresize\n",
    "import cv2 as cv"
   ]
  },
  {
   "cell_type": "code",
   "execution_count": 4,
   "metadata": {
    "collapsed": false
   },
   "outputs": [],
   "source": [
    "baseDir = \"/Users/Gautam/Google Drive/Machine Learning/WORKSHOP/imgs/\"\n",
    "\n",
    "fileList = []\n",
    "\n",
    "for path in os.listdir(baseDir):\n",
    "    if path != \".DS_Store\":\n",
    "        fileList.append(baseDir + path)"
   ]
  },
  {
   "cell_type": "code",
   "execution_count": 24,
   "metadata": {
    "collapsed": false
   },
   "outputs": [
    {
     "data": {
      "text/plain": [
       "105"
      ]
     },
     "execution_count": 24,
     "metadata": {},
     "output_type": "execute_result"
    }
   ],
   "source": [
    "img = plt.imread(fileList[100])\n"
   ]
  },
  {
   "cell_type": "code",
   "execution_count": 22,
   "metadata": {
    "collapsed": false
   },
   "outputs": [
    {
     "data": {
      "text/plain": [
       "(512, 512, 4)"
      ]
     },
     "execution_count": 22,
     "metadata": {},
     "output_type": "execute_result"
    }
   ],
   "source": [
    "img.shape"
   ]
  },
  {
   "cell_type": "code",
   "execution_count": 49,
   "metadata": {
    "collapsed": false
   },
   "outputs": [
    {
     "data": {
      "text/plain": [
       "<matplotlib.image.AxesImage at 0x11ed1b780>"
      ]
     },
     "execution_count": 49,
     "metadata": {},
     "output_type": "execute_result"
    },
    {
     "data": {
      "image/png": "[encoded data removed]",
      "text/plain": [
       "<matplotlib.figure.Figure at 0x11f5779e8>"
      ]
     },
     "metadata": {},
     "output_type": "display_data"
    }
   ],
   "source": [
    "plt.imshow(img)"
   ]
  },
  {
   "cell_type": "code",
   "execution_count": 29,
   "metadata": {
    "collapsed": false
   },
   "outputs": [],
   "source": [
    "resizedImages = []\n",
    "\n",
    "for imageIndex in range(len(fileList)):\n",
    "    readImage = cv.imread(fileList[imageIndex])\n",
    "    resizedImages.append(cv.resize(readImage, (100, 100)))"
   ]
  },
  {
   "cell_type": "code",
   "execution_count": 32,
   "metadata": {
    "collapsed": false
   },
   "outputs": [],
   "source": [
    "smallImg = resizedImages[101]"
   ]
  },
  {
   "cell_type": "code",
   "execution_count": 27,
   "metadata": {
    "collapsed": false
   },
   "outputs": [
    {
     "data": {
      "text/plain": [
       "(100, 100, 3)"
      ]
     },
     "execution_count": 27,
     "metadata": {},
     "output_type": "execute_result"
    }
   ],
   "source": [
    "smallImg.shape"
   ]
  },
  {
   "cell_type": "code",
   "execution_count": 34,
   "metadata": {
    "collapsed": true
   },
   "outputs": [],
   "source": [
    "mean_image = np.mean(resizedImages)"
   ]
  },
  {
   "cell_type": "code",
   "execution_count": 35,
   "metadata": {
    "collapsed": false
   },
   "outputs": [
    {
     "name": "stdout",
     "output_type": "stream",
     "text": [
      "126.11224381\n"
     ]
    }
   ],
   "source": [
    "print(mean_image)"
   ]
  },
  {
   "cell_type": "code",
   "execution_count": 36,
   "metadata": {
    "collapsed": true
   },
   "outputs": [],
   "source": [
    "dataSet = np.array(resizedImages)"
   ]
  },
  {
   "cell_type": "code",
   "execution_count": 59,
   "metadata": {
    "collapsed": false
   },
   "outputs": [
    {
     "data": {
      "text/plain": [
       "185.80000000000001"
      ]
     },
     "execution_count": 59,
     "metadata": {},
     "output_type": "execute_result"
    }
   ],
   "source": [
    "meanImage = np.mean(dataSet, axis=0)\n",
    "meanImage.max()"
   ]
  },
  {
   "cell_type": "code",
   "execution_count": 57,
   "metadata": {
    "collapsed": false
   },
   "outputs": [
    {
     "data": {
      "text/plain": [
       "<matplotlib.image.AxesImage at 0x1212b0048>"
      ]
     },
     "execution_count": 57,
     "metadata": {},
     "output_type": "execute_result"
    },
    {
     "data": {
      "image/png": "[encoded data removed]",
      "text/plain": [
       "<matplotlib.figure.Figure at 0x11ed7c0b8>"
      ]
     },
     "metadata": {},
     "output_type": "display_data"
    }
   ],
   "source": [
    "plt.imshow(meanImage / 255.0)"
   ]
  },
  {
   "cell_type": "code",
   "execution_count": 51,
   "metadata": {
    "collapsed": false
   },
   "outputs": [
    {
     "name": "stdout",
     "output_type": "stream",
     "text": [
      "[[[[  0  68   8]\n",
      "   [  0  68   8]\n",
      "   [  0  68   8]\n",
      "   ..., \n",
      "   [  0  68   8]\n",
      "   [  0  68   8]\n",
      "   [  0  68   8]]\n",
      "\n",
      "  [[  0  68   8]\n",
      "   [  0  68   8]\n",
      "   [  0  68   8]\n",
      "   ..., \n",
      "   [  0  68   8]\n",
      "   [  0  68   8]\n",
      "   [  0  68   8]]\n",
      "\n",
      "  [[  0  68   8]\n",
      "   [  0  68   8]\n",
      "   [  0  68   8]\n",
      "   ..., \n",
      "   [  0  68   8]\n",
      "   [  0  68   8]\n",
      "   [  0  68   8]]\n",
      "\n",
      "  ..., \n",
      "  [[  0  68   8]\n",
      "   [  0  68   8]\n",
      "   [  0  68   8]\n",
      "   ..., \n",
      "   [  0  68   8]\n",
      "   [  0  68   8]\n",
      "   [  0  68   8]]\n",
      "\n",
      "  [[  0  68   8]\n",
      "   [  0  68   8]\n",
      "   [  0  68   8]\n",
      "   ..., \n",
      "   [  0  68   8]\n",
      "   [  0  68   8]\n",
      "   [  0  68   8]]\n",
      "\n",
      "  [[  0  68   8]\n",
      "   [  0  68   8]\n",
      "   [  0  68   8]\n",
      "   ..., \n",
      "   [  0  68   8]\n",
      "   [  0  68   8]\n",
      "   [  0  68   8]]]\n",
      "\n",
      "\n",
      " [[[  0   0   0]\n",
      "   [  0   0   0]\n",
      "   [  0   0   0]\n",
      "   ..., \n",
      "   [  0   0   0]\n",
      "   [  0   0   0]\n",
      "   [  0   0   0]]\n",
      "\n",
      "  [[  0   0   0]\n",
      "   [  0   0   0]\n",
      "   [  0   0   0]\n",
      "   ..., \n",
      "   [  0   0   0]\n",
      "   [  0   0   0]\n",
      "   [  0   0   0]]\n",
      "\n",
      "  [[  0   0   0]\n",
      "   [  0   0   0]\n",
      "   [  0   0   0]\n",
      "   ..., \n",
      "   [  0   0   0]\n",
      "   [  0   0   0]\n",
      "   [  0   0   0]]\n",
      "\n",
      "  ..., \n",
      "  [[  0   0   0]\n",
      "   [  0   0   0]\n",
      "   [  0   0   0]\n",
      "   ..., \n",
      "   [  0   0   0]\n",
      "   [  0   0   0]\n",
      "   [  0   0   0]]\n",
      "\n",
      "  [[  0   0   0]\n",
      "   [  0   0   0]\n",
      "   [  0   0   0]\n",
      "   ..., \n",
      "   [  0   0   0]\n",
      "   [  0   0   0]\n",
      "   [  0   0   0]]\n",
      "\n",
      "  [[  0   0   0]\n",
      "   [  0   0   0]\n",
      "   [  0   0   0]\n",
      "   ..., \n",
      "   [  0   0   0]\n",
      "   [  0   0   0]\n",
      "   [  0   0   0]]]\n",
      "\n",
      "\n",
      " [[[155  94  20]\n",
      "   [155  94  20]\n",
      "   [160 101  34]\n",
      "   ..., \n",
      "   [164 100  24]\n",
      "   [161  92  11]\n",
      "   [161  92  11]]\n",
      "\n",
      "  [[155  94  20]\n",
      "   [155  94  20]\n",
      "   [160 101  34]\n",
      "   ..., \n",
      "   [164 100  24]\n",
      "   [161  92  11]\n",
      "   [161  92  11]]\n",
      "\n",
      "  [[155  94  20]\n",
      "   [155  94  20]\n",
      "   [162 105  39]\n",
      "   ..., \n",
      "   [166 103  29]\n",
      "   [161  92  11]\n",
      "   [161  92  11]]\n",
      "\n",
      "  ..., \n",
      "  [[186 241 254]\n",
      "   [186 241 254]\n",
      "   [138 221 252]\n",
      "   ..., \n",
      "   [229 154  32]\n",
      "   [252 205 121]\n",
      "   [252 205 121]]\n",
      "\n",
      "  [[186 241 254]\n",
      "   [186 241 254]\n",
      "   [140 222 252]\n",
      "   ..., \n",
      "   [235 160  34]\n",
      "   [252 205 121]\n",
      "   [252 205 121]]\n",
      "\n",
      "  [[186 241 254]\n",
      "   [186 241 254]\n",
      "   [140 222 252]\n",
      "   ..., \n",
      "   [235 160  34]\n",
      "   [252 205 121]\n",
      "   [252 205 121]]]\n",
      "\n",
      "\n",
      " ..., \n",
      " [[[255 255 255]\n",
      "   [255 255 255]\n",
      "   [255 255 255]\n",
      "   ..., \n",
      "   [255 255 255]\n",
      "   [255 255 255]\n",
      "   [255 255 255]]\n",
      "\n",
      "  [[255 255 255]\n",
      "   [255 255 255]\n",
      "   [255 255 255]\n",
      "   ..., \n",
      "   [255 255 255]\n",
      "   [255 255 255]\n",
      "   [255 255 255]]\n",
      "\n",
      "  [[255 255 255]\n",
      "   [255 255 255]\n",
      "   [255 255 255]\n",
      "   ..., \n",
      "   [255 255 255]\n",
      "   [255 255 255]\n",
      "   [255 255 255]]\n",
      "\n",
      "  ..., \n",
      "  [[ 93  65  23]\n",
      "   [ 93  65  23]\n",
      "   [ 93  65  23]\n",
      "   ..., \n",
      "   [ 93  65  23]\n",
      "   [ 93  65  23]\n",
      "   [ 93  65  23]]\n",
      "\n",
      "  [[ 93  64  23]\n",
      "   [ 93  64  23]\n",
      "   [ 93  64  23]\n",
      "   ..., \n",
      "   [ 93  64  23]\n",
      "   [ 93  64  23]\n",
      "   [ 93  64  23]]\n",
      "\n",
      "  [[ 92  64  23]\n",
      "   [ 92  64  23]\n",
      "   [ 92  64  23]\n",
      "   ..., \n",
      "   [ 92  64  23]\n",
      "   [ 92  64  23]\n",
      "   [ 92  64  23]]]\n",
      "\n",
      "\n",
      " [[[ 49  48  43]\n",
      "   [ 51  48  44]\n",
      "   [ 51  46  44]\n",
      "   ..., \n",
      "   [ 51  48  43]\n",
      "   [ 50  48  44]\n",
      "   [ 51  48  44]]\n",
      "\n",
      "  [[ 51  47  44]\n",
      "   [ 49  47  43]\n",
      "   [ 50  45  44]\n",
      "   ..., \n",
      "   [ 50  45  43]\n",
      "   [ 49  47  43]\n",
      "   [ 50  47  43]]\n",
      "\n",
      "  [[ 50  44  43]\n",
      "   [ 49  44  43]\n",
      "   [ 49  44  43]\n",
      "   ..., \n",
      "   [ 49  44  43]\n",
      "   [ 49  44  43]\n",
      "   [ 49  47  44]]\n",
      "\n",
      "  ..., \n",
      "  [[  0   0   0]\n",
      "   [  0   0   0]\n",
      "   [  0   0   0]\n",
      "   ..., \n",
      "   [ 77  16  75]\n",
      "   [ 76  16  74]\n",
      "   [ 75  16  74]]\n",
      "\n",
      "  [[  0   0   0]\n",
      "   [  0   0   0]\n",
      "   [  0   0   0]\n",
      "   ..., \n",
      "   [ 75  16  74]\n",
      "   [ 75  16  74]\n",
      "   [ 75  16  74]]\n",
      "\n",
      "  [[  0   0   0]\n",
      "   [  0   0   0]\n",
      "   [  0   0   0]\n",
      "   ..., \n",
      "   [ 75  16  74]\n",
      "   [ 75  16  74]\n",
      "   [ 75  16  74]]]\n",
      "\n",
      "\n",
      " [[[ 73  91 139]\n",
      "   [ 73  91 139]\n",
      "   [ 73  91 139]\n",
      "   ..., \n",
      "   [ 62  85 141]\n",
      "   [ 62  85 140]\n",
      "   [ 62  85 140]]\n",
      "\n",
      "  [[ 73  91 139]\n",
      "   [ 73  91 139]\n",
      "   [ 73  91 139]\n",
      "   ..., \n",
      "   [ 62  85 141]\n",
      "   [ 62  85 140]\n",
      "   [ 62  85 140]]\n",
      "\n",
      "  [[ 73  91 139]\n",
      "   [ 73  91 139]\n",
      "   [ 73  91 139]\n",
      "   ..., \n",
      "   [ 62  85 141]\n",
      "   [ 62  85 140]\n",
      "   [ 62  85 140]]\n",
      "\n",
      "  ..., \n",
      "  [[  1   0   0]\n",
      "   [  1   0   0]\n",
      "   [  1   0   0]\n",
      "   ..., \n",
      "   [ 74  73  40]\n",
      "   [ 80  77  31]\n",
      "   [ 80  77  31]]\n",
      "\n",
      "  [[  1   0   0]\n",
      "   [  1   0   0]\n",
      "   [  1   0   0]\n",
      "   ..., \n",
      "   [ 74  73  40]\n",
      "   [ 80  77  31]\n",
      "   [ 80  77  31]]\n",
      "\n",
      "  [[  1   0   0]\n",
      "   [  1   0   0]\n",
      "   [  1   0   0]\n",
      "   ..., \n",
      "   [ 74  73  40]\n",
      "   [ 80  77  31]\n",
      "   [ 80  77  31]]]]\n"
     ]
    }
   ],
   "source": [
    "print(dataSet)"
   ]
  },
  {
   "cell_type": "code",
   "execution_count": 53,
   "metadata": {
    "collapsed": false
   },
   "outputs": [],
   "source": [
    "stdDeviation = np.std(dataSet, axis = 0)"
   ]
  },
  {
   "cell_type": "code",
   "execution_count": 65,
   "metadata": {
    "collapsed": false
   },
   "outputs": [
    {
     "data": {
      "text/plain": [
       "<matplotlib.image.AxesImage at 0x121be62e8>"
      ]
     },
     "execution_count": 65,
     "metadata": {},
     "output_type": "execute_result"
    },
    {
     "data": {
      "image/png": "[encoded data removed]",
      "text/plain": [
       "<matplotlib.figure.Figure at 0x12194e208>"
      ]
     },
     "metadata": {},
     "output_type": "display_data"
    }
   ],
   "source": [
    "plt.imshow(stdDeviation / stdDeviation.max()) #+0.5 treat image pixels as observatione"
   ]
  },
  {
   "cell_type": "code",
   "execution_count": 58,
   "metadata": {
    "collapsed": false
   },
   "outputs": [
    {
     "data": {
      "text/plain": [
       "115.0519299097747"
      ]
     },
     "execution_count": 58,
     "metadata": {},
     "output_type": "execute_result"
    }
   ],
   "source": [
    "stdDeviation.max()"
   ]
  },
  {
   "cell_type": "code",
   "execution_count": 67,
   "metadata": {
    "collapsed": false
   },
   "outputs": [],
   "source": [
    "flatttened = dataSet.ravel()"
   ]
  },
  {
   "cell_type": "code",
   "execution_count": 68,
   "metadata": {
    "collapsed": false
   },
   "outputs": [
    {
     "data": {
      "text/plain": [
       "array([ 0, 68,  8, ..., 80, 77, 31], dtype=uint8)"
      ]
     },
     "execution_count": 68,
     "metadata": {},
     "output_type": "execute_result"
    }
   ],
   "source": [
    "flattened"
   ]
  },
  {
   "cell_type": "code",
   "execution_count": 69,
   "metadata": {
    "collapsed": false
   },
   "outputs": [
    {
     "data": {
      "text/plain": [
       "(array([ 367405.,   32841.,   16810.,   17595.,   21315.,   15016.,\n",
       "           8949.,   11531.,   17235.,    8620.,    8043.,   14445.,\n",
       "          12010.,    7994.,    9689.,   13606.,    7763.,    7478.,\n",
       "           7982.,    7697.,   15071.,    8788.,   19973.,   10998.,\n",
       "           9286.,    8108.,   10929.,    9869.,   12617.,    9313.,\n",
       "          16119.,    7522.,   12472.,    6804.,    8431.,   15290.,\n",
       "          10643.,    7032.,    8123.,   27354.,    7314.,   10002.,\n",
       "          10638.,    7533.,    8116.,   10443.,    7696.,    8967.,\n",
       "          10238.,   18163.,   13304.,   31630.,   11894.,   12285.,\n",
       "           7463.,    8365.,    8312.,    7395.,    6426.,   10352.,\n",
       "          16235.,   14055.,    9677.,   21749.,   13269.,    7616.,\n",
       "           6982.,    8352.,   14288.,   10404.,   16531.,    7166.,\n",
       "          10307.,   11379.,    7319.,    6901.,    6932.,    6300.,\n",
       "           6268.,    6304.,   12394.,   12081.,    7893.,    8373.,\n",
       "           7270.,   17397.,    6594.,    6620.,    5385.,    6282.,\n",
       "          14357.,    6305.,    6502.,    7370.,   10646.,    7325.,\n",
       "          12165.,    5077.,    5470.,    5193.,    7052.,   13349.,\n",
       "          13770.,    5509.,    5829.,    5234.,    4762.,   12369.,\n",
       "           5368.,    5675.,    7608.,    5296.,    6868.,    7448.,\n",
       "           8738.,    6685.,    6681.,    7227.,    5842.,    6706.,\n",
       "           6114.,   15317.,    5356.,    7266.,    7248.,    7293.,\n",
       "           5081.,    5624.,   15097.,   10057.,    5308.,    5170.,\n",
       "           5790.,    5589.,    5496.,    4862.,    5781.,    4998.,\n",
       "           7074.,    4747.,   12827.,    5047.,    4744.,    4535.,\n",
       "           7432.,    9085.,    4905.,    4904.,    7752.,    4649.,\n",
       "           4903.,    5371.,    6929.,    7037.,    6376.,    7581.,\n",
       "           6625.,    6344.,    8792.,    6107.,    6588.,    7385.,\n",
       "           5383.,    5872.,    8628.,   14797.,    5872.,    4617.,\n",
       "           5898.,    5644.,   12244.,    4701.,    5247.,    5064.,\n",
       "           4883.,    6078.,    5748.,    6196.,    8608.,    4813.,\n",
       "           5085.,    7787.,    5231.,   12989.,    4889.,    5145.,\n",
       "           5484.,    5149.,    7372.,   11416.,    5922.,    7255.,\n",
       "           6468.,    5742.,    5067.,    6783.,   14185.,    5257.,\n",
       "           5694.,    6182.,    8089.,    5820.,    6181.,    5940.,\n",
       "           6148.,    6822.,   21375.,    8044.,    6036.,    5890.,\n",
       "           6561.,   13266.,    5467.,    5869.,    6150.,   12539.,\n",
       "           6908.,    7349.,    6142.,    7634.,    6034.,    5350.,\n",
       "           5448.,    9741.,    6262.,   13481.,   11897.,    6709.,\n",
       "           6230.,    7121.,    7581.,    7083.,    8734.,    6540.,\n",
       "          14599.,    7929.,   16303.,    7418.,    8180.,   17508.,\n",
       "          15176.,    8003.,   10808.,    6763.,   12723.,    9506.,\n",
       "           8086.,    9753.,   12234.,   10894.,   11833.,   12228.,\n",
       "          26093.,   13527.,  507363.]),\n",
       " array([   0.,    1.,    2.,    3.,    4.,    5.,    6.,    7.,    8.,\n",
       "           9.,   10.,   11.,   12.,   13.,   14.,   15.,   16.,   17.,\n",
       "          18.,   19.,   20.,   21.,   22.,   23.,   24.,   25.,   26.,\n",
       "          27.,   28.,   29.,   30.,   31.,   32.,   33.,   34.,   35.,\n",
       "          36.,   37.,   38.,   39.,   40.,   41.,   42.,   43.,   44.,\n",
       "          45.,   46.,   47.,   48.,   49.,   50.,   51.,   52.,   53.,\n",
       "          54.,   55.,   56.,   57.,   58.,   59.,   60.,   61.,   62.,\n",
       "          63.,   64.,   65.,   66.,   67.,   68.,   69.,   70.,   71.,\n",
       "          72.,   73.,   74.,   75.,   76.,   77.,   78.,   79.,   80.,\n",
       "          81.,   82.,   83.,   84.,   85.,   86.,   87.,   88.,   89.,\n",
       "          90.,   91.,   92.,   93.,   94.,   95.,   96.,   97.,   98.,\n",
       "          99.,  100.,  101.,  102.,  103.,  104.,  105.,  106.,  107.,\n",
       "         108.,  109.,  110.,  111.,  112.,  113.,  114.,  115.,  116.,\n",
       "         117.,  118.,  119.,  120.,  121.,  122.,  123.,  124.,  125.,\n",
       "         126.,  127.,  128.,  129.,  130.,  131.,  132.,  133.,  134.,\n",
       "         135.,  136.,  137.,  138.,  139.,  140.,  141.,  142.,  143.,\n",
       "         144.,  145.,  146.,  147.,  148.,  149.,  150.,  151.,  152.,\n",
       "         153.,  154.,  155.,  156.,  157.,  158.,  159.,  160.,  161.,\n",
       "         162.,  163.,  164.,  165.,  166.,  167.,  168.,  169.,  170.,\n",
       "         171.,  172.,  173.,  174.,  175.,  176.,  177.,  178.,  179.,\n",
       "         180.,  181.,  182.,  183.,  184.,  185.,  186.,  187.,  188.,\n",
       "         189.,  190.,  191.,  192.,  193.,  194.,  195.,  196.,  197.,\n",
       "         198.,  199.,  200.,  201.,  202.,  203.,  204.,  205.,  206.,\n",
       "         207.,  208.,  209.,  210.,  211.,  212.,  213.,  214.,  215.,\n",
       "         216.,  217.,  218.,  219.,  220.,  221.,  222.,  223.,  224.,\n",
       "         225.,  226.,  227.,  228.,  229.,  230.,  231.,  232.,  233.,\n",
       "         234.,  235.,  236.,  237.,  238.,  239.,  240.,  241.,  242.,\n",
       "         243.,  244.,  245.,  246.,  247.,  248.,  249.,  250.,  251.,\n",
       "         252.,  253.,  254.,  255.]),\n",
       " <a list of 255 Patch objects>)"
      ]
     },
     "execution_count": 69,
     "metadata": {},
     "output_type": "execute_result"
    },
    {
     "data": {
      "image/png": "[encoded data removed]",
      "text/plain": [
       "<matplotlib.figure.Figure at 0x121b65208>"
      ]
     },
     "metadata": {},
     "output_type": "display_data"
    }
   ],
   "source": [
    "plt.hist(flattened, 255)"
   ]
  },
  {
   "cell_type": "code",
   "execution_count": 70,
   "metadata": {
    "collapsed": true
   },
   "outputs": [],
   "source": [
    "# Normalization: norm_image = (image - meanImage) / stdDeviation"
   ]
  },
  {
   "cell_type": "code",
   "execution_count": 71,
   "metadata": {
    "collapsed": true
   },
   "outputs": [],
   "source": [
    "normalizedDataSet = (dataSet - meanImage) / stdDeviation"
   ]
  },
  {
   "cell_type": "code",
   "execution_count": 73,
   "metadata": {
    "collapsed": false
   },
   "outputs": [
    {
     "data": {
      "text/plain": [
       "(-2.1556975299821204, 1.9837802720736371)"
      ]
     },
     "execution_count": 73,
     "metadata": {},
     "output_type": "execute_result"
    }
   ],
   "source": [
    "normalizedDataSet.min(), normalizedDataSet.max()"
   ]
  },
  {
   "cell_type": "code",
   "execution_count": 80,
   "metadata": {
    "collapsed": false
   },
   "outputs": [
    {
     "data": {
      "text/plain": [
       "<matplotlib.image.AxesImage at 0x1246e1208>"
      ]
     },
     "execution_count": 80,
     "metadata": {},
     "output_type": "execute_result"
    },
    {
     "data": {
      "image/png": "[encoded data removed]",
      "text/plain": [
       "<matplotlib.figure.Figure at 0x121ef7f60>"
      ]
     },
     "metadata": {},
     "output_type": "display_data"
    }
   ],
   "source": [
    "plt.imshow(normalizedDataSet[0] / 10 + 0.5)"
   ]
  },
  {
   "cell_type": "code",
   "execution_count": 81,
   "metadata": {
    "collapsed": false
   },
   "outputs": [
    {
     "data": {
      "text/plain": [
       "(array([  6.00000000e+00,   1.00000000e+00,   2.00000000e+00,\n",
       "          1.00000000e+00,   7.00000000e+00,   1.20000000e+01,\n",
       "          7.00000000e+00,   8.00000000e+00,   1.40000000e+01,\n",
       "          3.00000000e+01,   2.50000000e+01,   5.60000000e+01,\n",
       "          6.30000000e+01,   5.30000000e+01,   1.47000000e+02,\n",
       "          9.40000000e+01,   1.42000000e+02,   2.33000000e+02,\n",
       "          2.41000000e+02,   2.98000000e+02,   4.27000000e+02,\n",
       "          4.77000000e+02,   5.05000000e+02,   6.47000000e+02,\n",
       "          7.67000000e+02,   1.01000000e+03,   1.27600000e+03,\n",
       "          1.44200000e+03,   1.68800000e+03,   2.12600000e+03,\n",
       "          2.36500000e+03,   2.85200000e+03,   3.23500000e+03,\n",
       "          3.79500000e+03,   4.28000000e+03,   4.92400000e+03,\n",
       "          5.38000000e+03,   5.72500000e+03,   6.74700000e+03,\n",
       "          7.02800000e+03,   8.19200000e+03,   8.86200000e+03,\n",
       "          9.73200000e+03,   1.09300000e+04,   1.23780000e+04,\n",
       "          1.34080000e+04,   1.50450000e+04,   1.56950000e+04,\n",
       "          1.74850000e+04,   1.76290000e+04,   1.87400000e+04,\n",
       "          1.99220000e+04,   2.17520000e+04,   2.23370000e+04,\n",
       "          2.47480000e+04,   2.52310000e+04,   2.64640000e+04,\n",
       "          2.69710000e+04,   2.62750000e+04,   2.74540000e+04,\n",
       "          2.65560000e+04,   2.68780000e+04,   2.65610000e+04,\n",
       "          2.64200000e+04,   2.68650000e+04,   2.68200000e+04,\n",
       "          2.66680000e+04,   2.75720000e+04,   2.58420000e+04,\n",
       "          2.61480000e+04,   2.47830000e+04,   2.37490000e+04,\n",
       "          2.23080000e+04,   2.25690000e+04,   2.23130000e+04,\n",
       "          2.22310000e+04,   2.15360000e+04,   1.97800000e+04,\n",
       "          1.90980000e+04,   1.88670000e+04,   1.83250000e+04,\n",
       "          1.79170000e+04,   1.79910000e+04,   1.77150000e+04,\n",
       "          1.75270000e+04,   1.74680000e+04,   1.75230000e+04,\n",
       "          1.71190000e+04,   1.71100000e+04,   1.68790000e+04,\n",
       "          1.68360000e+04,   1.62490000e+04,   1.62710000e+04,\n",
       "          1.62270000e+04,   1.58380000e+04,   1.55770000e+04,\n",
       "          1.55190000e+04,   1.52250000e+04,   1.50400000e+04,\n",
       "          1.47260000e+04,   1.41970000e+04,   1.40510000e+04,\n",
       "          1.39270000e+04,   1.36290000e+04,   1.30960000e+04,\n",
       "          1.30690000e+04,   1.29040000e+04,   1.30190000e+04,\n",
       "          1.28640000e+04,   1.26390000e+04,   1.24160000e+04,\n",
       "          1.21700000e+04,   1.19730000e+04,   1.17640000e+04,\n",
       "          1.14660000e+04,   1.17230000e+04,   1.16270000e+04,\n",
       "          1.16180000e+04,   1.14620000e+04,   1.12940000e+04,\n",
       "          1.15940000e+04,   1.14700000e+04,   1.14560000e+04,\n",
       "          1.15530000e+04,   1.15620000e+04,   1.14240000e+04,\n",
       "          1.12270000e+04,   1.12200000e+04,   1.13250000e+04,\n",
       "          1.12200000e+04,   1.09810000e+04,   1.10030000e+04,\n",
       "          1.10670000e+04,   1.11560000e+04,   1.10070000e+04,\n",
       "          1.08530000e+04,   1.08080000e+04,   1.06280000e+04,\n",
       "          1.06640000e+04,   1.05340000e+04,   1.06440000e+04,\n",
       "          1.02530000e+04,   1.01870000e+04,   1.00960000e+04,\n",
       "          9.87600000e+03,   9.81200000e+03,   9.70700000e+03,\n",
       "          9.87600000e+03,   1.00280000e+04,   1.02080000e+04,\n",
       "          1.03970000e+04,   1.03770000e+04,   1.04350000e+04,\n",
       "          1.04290000e+04,   1.03580000e+04,   1.06750000e+04,\n",
       "          1.04240000e+04,   1.05530000e+04,   1.06180000e+04,\n",
       "          1.05790000e+04,   1.05380000e+04,   1.06090000e+04,\n",
       "          1.10100000e+04,   1.06420000e+04,   1.08060000e+04,\n",
       "          1.09380000e+04,   1.09610000e+04,   1.06210000e+04,\n",
       "          1.06560000e+04,   1.07080000e+04,   1.07860000e+04,\n",
       "          1.07300000e+04,   1.10850000e+04,   1.10140000e+04,\n",
       "          1.11590000e+04,   1.14330000e+04,   1.16530000e+04,\n",
       "          1.18460000e+04,   1.18600000e+04,   1.20580000e+04,\n",
       "          1.21950000e+04,   1.22600000e+04,   1.26040000e+04,\n",
       "          1.24980000e+04,   1.24760000e+04,   1.28770000e+04,\n",
       "          1.30630000e+04,   1.34550000e+04,   1.41050000e+04,\n",
       "          1.40150000e+04,   1.48790000e+04,   1.58180000e+04,\n",
       "          1.63750000e+04,   1.72860000e+04,   1.79880000e+04,\n",
       "          1.80230000e+04,   1.85080000e+04,   1.88100000e+04,\n",
       "          1.95910000e+04,   1.98040000e+04,   1.96870000e+04,\n",
       "          1.88320000e+04,   1.90930000e+04,   1.90490000e+04,\n",
       "          2.08380000e+04,   2.24190000e+04,   2.39290000e+04,\n",
       "          2.54650000e+04,   2.70670000e+04,   2.85900000e+04,\n",
       "          3.15470000e+04,   3.26580000e+04,   3.31320000e+04,\n",
       "          3.33740000e+04,   3.21570000e+04,   2.99020000e+04,\n",
       "          2.90950000e+04,   2.72930000e+04,   2.45960000e+04,\n",
       "          2.19390000e+04,   1.98100000e+04,   1.65000000e+04,\n",
       "          1.45160000e+04,   1.35230000e+04,   1.20910000e+04,\n",
       "          9.89900000e+03,   9.24200000e+03,   9.69300000e+03,\n",
       "          8.55800000e+03,   8.57600000e+03,   8.07400000e+03,\n",
       "          7.22200000e+03,   6.91400000e+03,   6.32300000e+03,\n",
       "          5.33100000e+03,   4.33400000e+03,   4.01200000e+03,\n",
       "          2.96500000e+03,   2.40600000e+03,   1.93200000e+03,\n",
       "          1.43900000e+03,   1.06800000e+03,   9.91000000e+02,\n",
       "          6.46000000e+02,   5.02000000e+02,   4.06000000e+02,\n",
       "          3.84000000e+02,   2.77000000e+02,   2.24000000e+02,\n",
       "          1.74000000e+02,   1.24000000e+02,   6.00000000e+01,\n",
       "          7.00000000e+01,   5.50000000e+01,   3.00000000e+01]),\n",
       " array([-2.15569753, -2.13946428, -2.12323104, -2.10699779, -2.09076454,\n",
       "        -2.0745313 , -2.05829805, -2.04206481, -2.02583156, -2.00959831,\n",
       "        -1.99336507, -1.97713182, -1.96089857, -1.94466533, -1.92843208,\n",
       "        -1.91219884, -1.89596559, -1.87973234, -1.8634991 , -1.84726585,\n",
       "        -1.8310326 , -1.81479936, -1.79856611, -1.78233287, -1.76609962,\n",
       "        -1.74986637, -1.73363313, -1.71739988, -1.70116663, -1.68493339,\n",
       "        -1.66870014, -1.6524669 , -1.63623365, -1.6200004 , -1.60376716,\n",
       "        -1.58753391, -1.57130066, -1.55506742, -1.53883417, -1.52260092,\n",
       "        -1.50636768, -1.49013443, -1.47390119, -1.45766794, -1.44143469,\n",
       "        -1.42520145, -1.4089682 , -1.39273495, -1.37650171, -1.36026846,\n",
       "        -1.34403522, -1.32780197, -1.31156872, -1.29533548, -1.27910223,\n",
       "        -1.26286898, -1.24663574, -1.23040249, -1.21416925, -1.197936  ,\n",
       "        -1.18170275, -1.16546951, -1.14923626, -1.13300301, -1.11676977,\n",
       "        -1.10053652, -1.08430328, -1.06807003, -1.05183678, -1.03560354,\n",
       "        -1.01937029, -1.00313704, -0.9869038 , -0.97067055, -0.95443731,\n",
       "        -0.93820406, -0.92197081, -0.90573757, -0.88950432, -0.87327107,\n",
       "        -0.85703783, -0.84080458, -0.82457133, -0.80833809, -0.79210484,\n",
       "        -0.7758716 , -0.75963835, -0.7434051 , -0.72717186, -0.71093861,\n",
       "        -0.69470536, -0.67847212, -0.66223887, -0.64600563, -0.62977238,\n",
       "        -0.61353913, -0.59730589, -0.58107264, -0.56483939, -0.54860615,\n",
       "        -0.5323729 , -0.51613966, -0.49990641, -0.48367316, -0.46743992,\n",
       "        -0.45120667, -0.43497342, -0.41874018, -0.40250693, -0.38627369,\n",
       "        -0.37004044, -0.35380719, -0.33757395, -0.3213407 , -0.30510745,\n",
       "        -0.28887421, -0.27264096, -0.25640771, -0.24017447, -0.22394122,\n",
       "        -0.20770798, -0.19147473, -0.17524148, -0.15900824, -0.14277499,\n",
       "        -0.12654174, -0.1103085 , -0.09407525, -0.07784201, -0.06160876,\n",
       "        -0.04537551, -0.02914227, -0.01290902,  0.00332423,  0.01955747,\n",
       "         0.03579072,  0.05202396,  0.06825721,  0.08449046,  0.1007237 ,\n",
       "         0.11695695,  0.1331902 ,  0.14942344,  0.16565669,  0.18188993,\n",
       "         0.19812318,  0.21435643,  0.23058967,  0.24682292,  0.26305617,\n",
       "         0.27928941,  0.29552266,  0.3117559 ,  0.32798915,  0.3442224 ,\n",
       "         0.36045564,  0.37668889,  0.39292214,  0.40915538,  0.42538863,\n",
       "         0.44162188,  0.45785512,  0.47408837,  0.49032161,  0.50655486,\n",
       "         0.52278811,  0.53902135,  0.5552546 ,  0.57148785,  0.58772109,\n",
       "         0.60395434,  0.62018758,  0.63642083,  0.65265408,  0.66888732,\n",
       "         0.68512057,  0.70135382,  0.71758706,  0.73382031,  0.75005355,\n",
       "         0.7662868 ,  0.78252005,  0.79875329,  0.81498654,  0.83121979,\n",
       "         0.84745303,  0.86368628,  0.87991952,  0.89615277,  0.91238602,\n",
       "         0.92861926,  0.94485251,  0.96108576,  0.977319  ,  0.99355225,\n",
       "         1.0097855 ,  1.02601874,  1.04225199,  1.05848523,  1.07471848,\n",
       "         1.09095173,  1.10718497,  1.12341822,  1.13965147,  1.15588471,\n",
       "         1.17211796,  1.1883512 ,  1.20458445,  1.2208177 ,  1.23705094,\n",
       "         1.25328419,  1.26951744,  1.28575068,  1.30198393,  1.31821717,\n",
       "         1.33445042,  1.35068367,  1.36691691,  1.38315016,  1.39938341,\n",
       "         1.41561665,  1.4318499 ,  1.44808314,  1.46431639,  1.48054964,\n",
       "         1.49678288,  1.51301613,  1.52924938,  1.54548262,  1.56171587,\n",
       "         1.57794912,  1.59418236,  1.61041561,  1.62664885,  1.6428821 ,\n",
       "         1.65911535,  1.67534859,  1.69158184,  1.70781509,  1.72404833,\n",
       "         1.74028158,  1.75651482,  1.77274807,  1.78898132,  1.80521456,\n",
       "         1.82144781,  1.83768106,  1.8539143 ,  1.87014755,  1.88638079,\n",
       "         1.90261404,  1.91884729,  1.93508053,  1.95131378,  1.96754703,\n",
       "         1.98378027]),\n",
       " <a list of 255 Patch objects>)"
      ]
     },
     "execution_count": 81,
     "metadata": {},
     "output_type": "execute_result"
    },
    {
     "data": {
      "image/png": "[encoded data removed]",
      "text/plain": [
       "<matplotlib.figure.Figure at 0x124093a20>"
      ]
     },
     "metadata": {},
     "output_type": "display_data"
    }
   ],
   "source": [
    "plt.hist(normalizedDataSet.ravel(), 255)"
   ]
  },
  {
   "cell_type": "code",
   "execution_count": null,
   "metadata": {
    "collapsed": true
   },
   "outputs": [],
   "source": []
  }
 ],
 "metadata": {
  "kernelspec": {
   "display_name": "Python 3",
   "language": "python",
   "name": "python3"
  },
  "language_info": {
   "codemirror_mode": {
    "name": "ipython",
    "version": 3
   },
   "file_extension": ".py",
   "mimetype": "text/x-python",
   "name": "python",
   "nbconvert_exporter": "python",
   "pygments_lexer": "ipython3",
   "version": "3.5.2"
  }
 },
 "nbformat": 4,
 "nbformat_minor": 2
}
