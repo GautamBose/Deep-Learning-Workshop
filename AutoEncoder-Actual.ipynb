{
 "cells": [
  {
   "cell_type": "code",
   "execution_count": 15,
   "metadata": {
    "collapsed": true,
    "deletable": true,
    "editable": true
   },
   "outputs": [],
   "source": [
    "import tensorflow as tf"
   ]
  },
  {
   "cell_type": "code",
   "execution_count": 36,
   "metadata": {
    "collapsed": true,
    "deletable": true,
    "editable": true
   },
   "outputs": [],
   "source": [
    "import numpy as np\n",
    "import matplotlib.pyplot as plt\n",
    "import cv2 as cv\n",
    "%matplotlib inline\n",
    "import os\n",
    "from tensorflow.contrib import slim"
   ]
  },
  {
   "cell_type": "code",
   "execution_count": 37,
   "metadata": {
    "collapsed": false,
    "deletable": true,
    "editable": true
   },
   "outputs": [],
   "source": [
    "baseDir = \"/Users/Gautam/Google Drive/Machine Learning/WORKSHOP/imgs/\"\n",
    "\n",
    "fileList = []\n",
    "\n",
    "for path in os.listdir(baseDir):\n",
    "    if path != \".DS_Store\":\n",
    "        fileList.append(baseDir + path)\n",
    "        \n",
    "# fileList"
   ]
  },
  {
   "cell_type": "code",
   "execution_count": 38,
   "metadata": {
    "collapsed": false,
    "deletable": true,
    "editable": true
   },
   "outputs": [],
   "source": [
    "resizedImages = []\n",
    "\n",
    "for imageIndex in range(len(fileList)):\n",
    "    readImage = cv.imread(fileList[imageIndex])\n",
    "    resizedImages.append(cv.resize(readImage, (64, 64)))"
   ]
  },
  {
   "cell_type": "code",
   "execution_count": 39,
   "metadata": {
    "collapsed": false,
    "deletable": true,
    "editable": true
   },
   "outputs": [
    {
     "data": {
      "text/plain": [
       "<matplotlib.image.AxesImage at 0x1200ca518>"
      ]
     },
     "execution_count": 39,
     "metadata": {},
     "output_type": "execute_result"
    },
    {
     "data": {
      "image/png": "[encoded data removed]",
      "text/plain": [
       "<matplotlib.figure.Figure at 0x120082b00>"
      ]
     },
     "metadata": {},
     "output_type": "display_data"
    }
   ],
   "source": [
    "resizedImages = np.array(resizedImages)\n",
    "plt.imshow(resizedImages[10])\n",
    "#we should normalize to allow us to use more activation functions"
   ]
  },
  {
   "cell_type": "code",
   "execution_count": 55,
   "metadata": {
    "collapsed": false,
    "deletable": true,
    "editable": true
   },
   "outputs": [],
   "source": [
    "resizedImages.shape\n",
    "stdImage = np.std(resizedImages, axis = 0)\n",
    "meanIMage = np.mean(resizedImages, axis = 0)\n",
    "norm_images = (resizedImages - np.mean(resizedImages, axis = 0)) / np.std(resizedImages, axis = 0)"
   ]
  },
  {
   "cell_type": "code",
   "execution_count": 72,
   "metadata": {
    "collapsed": false,
    "deletable": true,
    "editable": true
   },
   "outputs": [],
   "source": [
    "X = tf.placeholder?"
   ]
  },
  {
   "cell_type": "code",
   "execution_count": 74,
   "metadata": {
    "collapsed": true
   },
   "outputs": [],
   "source": [
    "X = tf.placeholder"
   ]
  },
  {
   "cell_type": "code",
   "execution_count": 75,
   "metadata": {
    "collapsed": true
   },
   "outputs": [],
   "source": [
    "X = tf.placeholder"
   ]
  },
  {
   "cell_type": "code",
   "execution_count": 76,
   "metadata": {
    "collapsed": false,
    "deletable": true,
    "editable": true
   },
   "outputs": [],
   "source": [
    "X = tf.placeholder(tf.float32, shape = [None, 64, 64, 3])"
   ]
  },
  {
   "cell_type": "code",
   "execution_count": 77,
   "metadata": {
    "collapsed": true,
    "deletable": true,
    "editable": true
   },
   "outputs": [],
   "source": [
    "X_reshape = tf.reshape(X, [-1, 64 * 64 * 3])"
   ]
  },
  {
   "cell_type": "code",
   "execution_count": 78,
   "metadata": {
    "collapsed": false,
    "deletable": true,
    "editable": true
   },
   "outputs": [
    {
     "data": {
      "text/plain": [
       "TensorShape([Dimension(None), Dimension(12288)])"
      ]
     },
     "execution_count": 78,
     "metadata": {},
     "output_type": "execute_result"
    }
   ],
   "source": [
    "X_reshape.shape"
   ]
  },
  {
   "cell_type": "code",
   "execution_count": 79,
   "metadata": {
    "collapsed": false,
    "deletable": true,
    "editable": true
   },
   "outputs": [],
   "source": [
    "\n",
    "H1 = slim.linear(X_reshape, 1024, activation_fn=tf.nn.relu)\n",
    "H2 = slim.linear(H1, 512, activation_fn=tf.nn.relu)"
   ]
  },
  {
   "cell_type": "code",
   "execution_count": 80,
   "metadata": {
    "collapsed": true,
    "deletable": true,
    "editable": true
   },
   "outputs": [],
   "source": [
    "H3 = slim.linear(H1, 256, activation_fn = tf.nn.relu)"
   ]
  },
  {
   "cell_type": "code",
   "execution_count": 81,
   "metadata": {
    "collapsed": false,
    "deletable": true,
    "editable": true
   },
   "outputs": [],
   "source": [
    "Z = slim.linear(H2, 2, activation_fn=tf.nn.sigmoid)\n",
    "H4 = slim.linear(Z, 256, activation_fn = tf.nn.sigmoid)\n",
    "H5 = slim.linear(H3, 512, activation_fn = tf.nn.relu)\n"
   ]
  },
  {
   "cell_type": "code",
   "execution_count": 82,
   "metadata": {
    "collapsed": true,
    "deletable": true,
    "editable": true
   },
   "outputs": [],
   "source": [
    "Xpredicted = slim.linear(H5, 64 * 64 * 3)"
   ]
  },
  {
   "cell_type": "code",
   "execution_count": 83,
   "metadata": {
    "collapsed": false,
    "deletable": true,
    "editable": true
   },
   "outputs": [],
   "source": [
    "featureCost = tf.reduce_sum(tf.square(Xpredicted - X_reshape), 1)\n",
    "cost = tf.reduce_mean(featureCost)"
   ]
  },
  {
   "cell_type": "code",
   "execution_count": 84,
   "metadata": {
    "collapsed": true,
    "deletable": true,
    "editable": true
   },
   "outputs": [],
   "source": [
    "optimizer = tf.train.AdamOptimizer(learning_rate=0.001).minimize(cost)"
   ]
  },
  {
   "cell_type": "code",
   "execution_count": 86,
   "metadata": {
    "collapsed": false,
    "deletable": true,
    "editable": true,
    "scrolled": false
   },
   "outputs": [
    {
     "name": "stdout",
     "output_type": "stream",
     "text": [
      "0 10236.7\n",
      "1 8007.61\n",
      "2 7009.89\n",
      "3 5861.33\n",
      "4 4895.9\n",
      "5 4015.7\n",
      "6 3200.88\n",
      "7 2487.36\n",
      "8 1880.67\n",
      "9 1397.98\n",
      "10 1027.53\n",
      "11 752.688\n",
      "12 547.978\n",
      "13 398.297\n",
      "14 289.017\n",
      "15 216.271\n",
      "16 153.38\n",
      "17 114.247\n",
      "18 83.9444\n",
      "19 61.8107\n",
      "20 46.7992\n",
      "21 35.3049\n",
      "22 28.5254\n",
      "23 32.2907\n",
      "24 37.7505\n",
      "25 24.0827\n",
      "26 16.1251\n",
      "27 15.5541\n",
      "28 11.9275\n",
      "29 7.51224\n",
      "30 5.98378\n",
      "31 4.48571\n",
      "32 3.27954\n",
      "33 2.56088\n",
      "34 3.34866\n",
      "35 14.178\n",
      "36 54.9785\n",
      "37 23.0374\n",
      "38 8.70704\n",
      "39 8.3553\n",
      "40 4.63498\n",
      "41 3.32101\n",
      "42 2.27031\n",
      "43 1.20534\n",
      "44 1.13055\n",
      "45 0.816388\n",
      "46 1.6111\n",
      "47 29.3354\n",
      "48 68.9521\n",
      "49 39.2474\n",
      "50 19.6449\n",
      "51 16.3669\n",
      "52 8.50953\n",
      "53 4.95327\n",
      "54 4.06739\n",
      "55 2.50927\n",
      "56 1.62464\n",
      "57 1.15152\n",
      "58 0.674537\n",
      "59 0.51329\n",
      "60 0.342339\n",
      "61 0.217125\n",
      "62 0.143017\n",
      "63 0.0887717\n",
      "64 0.0703579\n",
      "65 0.0389919\n",
      "66 0.032557\n",
      "67 0.0198588\n",
      "68 0.0181087\n",
      "69 0.0141587\n",
      "70 0.0401262\n",
      "71 0.267029\n",
      "72 2.87751\n",
      "73 19.2755\n",
      "74 13.5172\n",
      "75 5.96972\n",
      "76 5.85244\n",
      "77 3.12163\n",
      "78 2.29681\n",
      "79 1.62444\n",
      "80 0.954077\n",
      "81 0.599143\n",
      "82 0.482532\n",
      "83 0.310216\n",
      "84 0.156931\n",
      "85 0.211326\n",
      "86 0.473712\n",
      "87 3.40311\n",
      "88 26.2162\n",
      "89 44.9891\n",
      "90 51.9571\n",
      "91 15.9277\n",
      "92 15.4487\n",
      "93 9.80332\n",
      "94 5.90511\n",
      "95 3.86099\n",
      "96 2.85591\n",
      "97 1.52693\n",
      "98 1.05052\n",
      "99 0.71431\n"
     ]
    },
    {
     "data": {
      "text/plain": [
       "<matplotlib.image.AxesImage at 0x18f1cb6d8>"
      ]
     },
     "execution_count": 86,
     "metadata": {},
     "output_type": "execute_result"
    },
    {
     "data": {
      "image/png": "[encoded data removed]",
      "text/plain": [
       "<matplotlib.figure.Figure at 0x12dec2518>"
      ]
     },
     "metadata": {},
     "output_type": "display_data"
    }
   ],
   "source": [
    "numIterations = 100\n",
    "batchSize = 25\n",
    "\n",
    "sess = tf.InteractiveSession()\n",
    "\n",
    "sess.run(tf.global_variables_initializer())\n",
    "\n",
    "\n",
    "for iteration in range(numIterations):\n",
    "    randIndexs = np.random.permutation(range(len(norm_images)))\n",
    "    numBatches = len(randIndexs) // batchSize\n",
    "    \n",
    "    for batch in range(numBatches):\n",
    "        batchIndex = randIndexs[batch * batchSize: (batch + 1) * batchSize]\n",
    "        sess.run(optimizer, feed_dict = {X: norm_images})\n",
    "    training_cost = sess.run(cost, feed_dict = {X: norm_images})\n",
    "    print(iteration, training_cost)\n",
    "\n",
    "synthX = sess.run(Xpredicted, feed_dict = {X:norm_images[10].reshape(1,64,64,3)})\n",
    "synthX = synthX.reshape(64, 64, 3)\n",
    "plt.imshow(((synthX * stdImage) / meanIMage)  255)\n",
    "    "
   ]
  },
  {
   "cell_type": "code",
   "execution_count": 122,
   "metadata": {
    "collapsed": false,
    "deletable": true,
    "editable": true
   },
   "outputs": [
    {
     "data": {
      "text/plain": [
       "<matplotlib.image.AxesImage at 0x1fda735c0>"
      ]
     },
     "execution_count": 122,
     "metadata": {},
     "output_type": "execute_result"
    },
    {
     "data": {
      "image/png": "[encoded data removed]",
      "text/plain": [
       "<matplotlib.figure.Figure at 0x1b8693240>"
      ]
     },
     "metadata": {},
     "output_type": "display_data"
    }
   ],
   "source": [
    "synthX = sess.run(Xpredicted, feed_dict = {X:norm_images[11].reshape(1,64,64,3)})\n",
    "synthX = synthX.reshape(64, 64, 3)\n",
    "plt.imshow(((synthX * stdImage) / meanIMage))"
   ]
  },
  {
   "cell_type": "code",
   "execution_count": null,
   "metadata": {
    "collapsed": true
   },
   "outputs": [],
   "source": []
  },
  {
   "cell_type": "code",
   "execution_count": null,
   "metadata": {
    "collapsed": false,
    "deletable": true,
    "editable": true
   },
   "outputs": [],
   "source": []
  },
  {
   "cell_type": "code",
   "execution_count": 58,
   "metadata": {
    "collapsed": false,
    "deletable": true,
    "editable": true
   },
   "outputs": [],
   "source": []
  },
  {
   "cell_type": "code",
   "execution_count": 61,
   "metadata": {
    "collapsed": false,
    "deletable": true,
    "editable": true
   },
   "outputs": [
    {
     "data": {
      "text/plain": [
       "1290240"
      ]
     },
     "execution_count": 61,
     "metadata": {},
     "output_type": "execute_result"
    }
   ],
   "source": []
  },
  {
   "cell_type": "code",
   "execution_count": 63,
   "metadata": {
    "collapsed": false,
    "deletable": true,
    "editable": true
   },
   "outputs": [],
   "source": []
  },
  {
   "cell_type": "code",
   "execution_count": 128,
   "metadata": {
    "collapsed": false,
    "deletable": true,
    "editable": true
   },
   "outputs": [
    {
     "ename": "ValueError",
     "evalue": "Cannot feed value of shape (64, 64, 3) for Tensor 'Placeholder:0', which has shape '(?, 64, 64, 3)'",
     "output_type": "error",
     "traceback": [
      "\u001b[0;31m---------------------------------------------------------------------------\u001b[0m",
      "\u001b[0;31mValueError\u001b[0m                                Traceback (most recent call last)",
      "\u001b[0;32m<ipython-input-128-64e2d9f0b3d5>\u001b[0m in \u001b[0;36m<module>\u001b[0;34m()\u001b[0m\n\u001b[0;32m----> 1\u001b[0;31m \u001b[0mplt\u001b[0m\u001b[0;34m.\u001b[0m\u001b[0mimshow\u001b[0m\u001b[0;34m(\u001b[0m\u001b[0msess\u001b[0m\u001b[0;34m.\u001b[0m\u001b[0mrun\u001b[0m\u001b[0;34m(\u001b[0m\u001b[0msynthX\u001b[0m\u001b[0;34m[\u001b[0m\u001b[0;36m10\u001b[0m\u001b[0;34m]\u001b[0m\u001b[0;34m,\u001b[0m \u001b[0mfeed_dict\u001b[0m\u001b[0;34m=\u001b[0m\u001b[0;34m{\u001b[0m\u001b[0mX\u001b[0m\u001b[0;34m:\u001b[0m \u001b[0mresizedImages\u001b[0m\u001b[0;34m[\u001b[0m\u001b[0;36m10\u001b[0m\u001b[0;34m]\u001b[0m\u001b[0;34m}\u001b[0m\u001b[0;34m)\u001b[0m\u001b[0;34m)\u001b[0m\u001b[0;34m\u001b[0m\u001b[0m\n\u001b[0m",
      "\u001b[0;32m/Users/Gautam/anaconda3/envs/weflow/lib/python3.5/site-packages/tensorflow/python/client/session.py\u001b[0m in \u001b[0;36mrun\u001b[0;34m(self, fetches, feed_dict, options, run_metadata)\u001b[0m\n\u001b[1;32m    765\u001b[0m     \u001b[0;32mtry\u001b[0m\u001b[0;34m:\u001b[0m\u001b[0;34m\u001b[0m\u001b[0m\n\u001b[1;32m    766\u001b[0m       result = self._run(None, fetches, feed_dict, options_ptr,\n\u001b[0;32m--> 767\u001b[0;31m                          run_metadata_ptr)\n\u001b[0m\u001b[1;32m    768\u001b[0m       \u001b[0;32mif\u001b[0m \u001b[0mrun_metadata\u001b[0m\u001b[0;34m:\u001b[0m\u001b[0;34m\u001b[0m\u001b[0m\n\u001b[1;32m    769\u001b[0m         \u001b[0mproto_data\u001b[0m \u001b[0;34m=\u001b[0m \u001b[0mtf_session\u001b[0m\u001b[0;34m.\u001b[0m\u001b[0mTF_GetBuffer\u001b[0m\u001b[0;34m(\u001b[0m\u001b[0mrun_metadata_ptr\u001b[0m\u001b[0;34m)\u001b[0m\u001b[0;34m\u001b[0m\u001b[0m\n",
      "\u001b[0;32m/Users/Gautam/anaconda3/envs/weflow/lib/python3.5/site-packages/tensorflow/python/client/session.py\u001b[0m in \u001b[0;36m_run\u001b[0;34m(self, handle, fetches, feed_dict, options, run_metadata)\u001b[0m\n\u001b[1;32m    942\u001b[0m                 \u001b[0;34m'Cannot feed value of shape %r for Tensor %r, '\u001b[0m\u001b[0;34m\u001b[0m\u001b[0m\n\u001b[1;32m    943\u001b[0m                 \u001b[0;34m'which has shape %r'\u001b[0m\u001b[0;34m\u001b[0m\u001b[0m\n\u001b[0;32m--> 944\u001b[0;31m                 % (np_val.shape, subfeed_t.name, str(subfeed_t.get_shape())))\n\u001b[0m\u001b[1;32m    945\u001b[0m           \u001b[0;32mif\u001b[0m \u001b[0;32mnot\u001b[0m \u001b[0mself\u001b[0m\u001b[0;34m.\u001b[0m\u001b[0mgraph\u001b[0m\u001b[0;34m.\u001b[0m\u001b[0mis_feedable\u001b[0m\u001b[0;34m(\u001b[0m\u001b[0msubfeed_t\u001b[0m\u001b[0;34m)\u001b[0m\u001b[0;34m:\u001b[0m\u001b[0;34m\u001b[0m\u001b[0m\n\u001b[1;32m    946\u001b[0m             \u001b[0;32mraise\u001b[0m \u001b[0mValueError\u001b[0m\u001b[0;34m(\u001b[0m\u001b[0;34m'Tensor %s may not be fed.'\u001b[0m \u001b[0;34m%\u001b[0m \u001b[0msubfeed_t\u001b[0m\u001b[0;34m)\u001b[0m\u001b[0;34m\u001b[0m\u001b[0m\n",
      "\u001b[0;31mValueError\u001b[0m: Cannot feed value of shape (64, 64, 3) for Tensor 'Placeholder:0', which has shape '(?, 64, 64, 3)'"
     ]
    }
   ],
   "source": []
  },
  {
   "cell_type": "code",
   "execution_count": null,
   "metadata": {
    "collapsed": true,
    "deletable": true,
    "editable": true
   },
   "outputs": [],
   "source": []
  }
 ],
 "metadata": {
  "kernelspec": {
   "display_name": "Python 3",
   "language": "python",
   "name": "python3"
  },
  "language_info": {
   "codemirror_mode": {
    "name": "ipython",
    "version": 3
   },
   "file_extension": ".py",
   "mimetype": "text/x-python",
   "name": "python",
   "nbconvert_exporter": "python",
   "pygments_lexer": "ipython3",
   "version": "3.5.2"
  }
 },
 "nbformat": 4,
 "nbformat_minor": 2
}
